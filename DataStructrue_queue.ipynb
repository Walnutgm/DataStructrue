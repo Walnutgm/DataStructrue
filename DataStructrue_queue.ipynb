{
 "cells": [
  {
   "cell_type": "code",
   "execution_count": 1,
   "source": [
    "#用Python实现队列\r\n",
    "class Queue:\r\n",
    "    def __init__(self):\r\n",
    "        self.items=[]\r\n",
    "    def isEmpty(self):\r\n",
    "        return self.items==[]\r\n",
    "    def enqueue(self,item):\r\n",
    "        self.items.insert(0,item)  #从队伍尾部入队\r\n",
    "    def dequeue(self):\r\n",
    "        return self.items.pop()\r\n",
    "    def size(self):\r\n",
    "        return len(self.items)\r\n"
   ],
   "outputs": [],
   "metadata": {}
  },
  {
   "cell_type": "markdown",
   "source": [
    "<font size=5>传土豆游戏，孩子们围成一圈，传递手中的土豆，每次传一定次数，最后在谁手里谁出局，到最后剩下的是赢家</font>"
   ],
   "metadata": {}
  },
  {
   "cell_type": "code",
   "execution_count": 1,
   "source": [
    "from pythonds.basic import Queue\r\n",
    "def hotPotato(nameList,num):\r\n",
    "    simqueue=Queue()\r\n",
    "    for name in nameList:\r\n",
    "        simqueue.enqueue(name)\r\n",
    "    while simqueue.size()>1:\r\n",
    "        for i in range(num):\r\n",
    "            simqueue.enqueue(simqueue.dequeue())\r\n",
    "        simqueue.dequeue()\r\n",
    "    return simqueue.dequeue()"
   ],
   "outputs": [],
   "metadata": {}
  },
  {
   "cell_type": "code",
   "execution_count": 2,
   "source": [
    "nameList=['A','B','C','D','E','F']\r\n",
    "hotPotato(nameList,7)"
   ],
   "outputs": [
    {
     "output_type": "execute_result",
     "data": {
      "text/plain": [
       "'C'"
      ]
     },
     "metadata": {},
     "execution_count": 2
    }
   ],
   "metadata": {}
  },
  {
   "cell_type": "markdown",
   "source": [
    "模拟：打印任务"
   ],
   "metadata": {}
  },
  {
   "cell_type": "code",
   "execution_count": 1,
   "source": [
    "class Printer:\r\n",
    "    def __init__(self,ppm) -> None:\r\n",
    "        self.pagerate=ppm  #打印速度，每分钟打印多少页\r\n",
    "        self.currentTask=None\r\n",
    "        self.timeRemaining=0\r\n",
    "\r\n",
    "    def tick(self):\r\n",
    "        if self.currentTask!=None:\r\n",
    "            self.timeRemaining=self.timeRemaining-1\r\n",
    "            if self.timeRemaining<=0:\r\n",
    "                self.currentTask=None\r\n",
    "\r\n",
    "    def busy(self):\r\n",
    "        if self.currentTask!=None:\r\n",
    "            return True\r\n",
    "        else:\r\n",
    "            return False\r\n",
    "    \r\n",
    "    def startNext(self,newtask):\r\n",
    "        self.currentTask=newtask\r\n",
    "        self.timeRemaining=newtask.getPages()*60/self.pagerate\r\n",
    "\r\n"
   ],
   "outputs": [],
   "metadata": {}
  },
  {
   "cell_type": "code",
   "execution_count": 2,
   "source": [
    "import random\r\n",
    "class Task:\r\n",
    "    def __init__(self,time) -> None:\r\n",
    "        self.timestamp=time\r\n",
    "        self.pages=random.randrange(1,21)\r\n",
    "    \r\n",
    "    def getStamp(self):\r\n",
    "        return self.timestamp\r\n",
    "    \r\n",
    "    def getPages(self):\r\n",
    "        return self.pages\r\n",
    "    \r\n",
    "    def waitTime(self,currenttime):\r\n",
    "        return currenttime-self.timestamp"
   ],
   "outputs": [],
   "metadata": {}
  },
  {
   "cell_type": "code",
   "execution_count": 3,
   "source": [
    "from pythonds.basic import Queue\r\n",
    "import random\r\n",
    "\r\n",
    "def newPrintTask():\r\n",
    "    num=random.randrange(1,181)\r\n",
    "    if num==180:\r\n",
    "        return True\r\n",
    "    else:\r\n",
    "        return False\r\n",
    "\r\n",
    "def simulation(numSeconds,pagesPerMinute):\r\n",
    "    labprinter=Printer(pagesPerMinute)\r\n",
    "    printQueue=Queue()\r\n",
    "    waitingtimes=[]\r\n",
    "\r\n",
    "    for currentSecond in range(numSeconds):\r\n",
    "        if newPrintTask():\r\n",
    "            task=Task(currentSecond)\r\n",
    "            printQueue.enqueue(task)\r\n",
    "        \r\n",
    "        if (not labprinter.busy()) and (not printQueue.isEmpty()):\r\n",
    "            nexttask=printQueue.dequeue()\r\n",
    "            waitingtimes.append(nexttask.waitTime(currentSecond))\r\n",
    "            labprinter.startNext(nexttask)\r\n",
    "        \r\n",
    "        labprinter.tick()\r\n",
    "    \r\n",
    "    averageWait=sum(waitingtimes)/len(waitingtimes)\r\n",
    "    print(\"Average Wait %6.2f secs %3d tasks remaining.\"%(averageWait,printQueue.size()))"
   ],
   "outputs": [],
   "metadata": {}
  },
  {
   "cell_type": "code",
   "execution_count": 6,
   "source": [
    "for i in range(5):\r\n",
    "    simulation(3600,5)"
   ],
   "outputs": [
    {
     "output_type": "stream",
     "name": "stdout",
     "text": [
      "Average Wait  29.64 secs   0 tasks remaining.\n",
      "Average Wait  58.37 secs   0 tasks remaining.\n",
      "Average Wait  88.95 secs   1 tasks remaining.\n",
      "Average Wait 284.67 secs   3 tasks remaining.\n",
      "Average Wait 103.43 secs   0 tasks remaining.\n"
     ]
    }
   ],
   "metadata": {}
  },
  {
   "cell_type": "markdown",
   "source": [
    "双端队列：队伍前后都可以进行添加或删除元素"
   ],
   "metadata": {}
  },
  {
   "cell_type": "code",
   "execution_count": 1,
   "source": [
    "#用python实现双端队列\r\n",
    "class Deque:\r\n",
    "    def __init__(self) -> None:\r\n",
    "        self.items=[]\r\n",
    "\r\n",
    "    def isEmpty(self):\r\n",
    "        return self.items==[]\r\n",
    "    \r\n",
    "    def addFront(self,item):\r\n",
    "        self.items.append(item)\r\n",
    "    \r\n",
    "    def addRear(self,item):\r\n",
    "        self.items.insert(0,item)\r\n",
    "    \r\n",
    "    def removeFront(self):\r\n",
    "        return self.items.pop()\r\n",
    "    \r\n",
    "    def removeRear(self):\r\n",
    "        return self.items.pop(0)\r\n",
    "    \r\n",
    "    def size(self):\r\n",
    "        return len(self.items)\r\n"
   ],
   "outputs": [],
   "metadata": {}
  },
  {
   "cell_type": "code",
   "execution_count": 1,
   "source": [
    "#判断回文字符串\r\n",
    "from pythonds.basic import Deque\r\n",
    "def palchecker(aString):\r\n",
    "    chardeque=Deque()\r\n",
    "    for ch in aString:\r\n",
    "        chardeque.addRear(ch)\r\n",
    "    stillEqual=True\r\n",
    "    while chardeque.size()>1 and stillEqual:\r\n",
    "        first=chardeque.removeFront()\r\n",
    "        last=chardeque.removeRear()\r\n",
    "        if first!=last:\r\n",
    "            stillEqual=False\r\n",
    "    return stillEqual"
   ],
   "outputs": [],
   "metadata": {}
  },
  {
   "cell_type": "code",
   "execution_count": 3,
   "source": [
    "print(palchecker('asdsa'))\r\n",
    "print(palchecker('hgfj'))"
   ],
   "outputs": [
    {
     "output_type": "stream",
     "name": "stdout",
     "text": [
      "True\n",
      "False\n"
     ]
    }
   ],
   "metadata": {}
  },
  {
   "cell_type": "code",
   "execution_count": null,
   "source": [],
   "outputs": [],
   "metadata": {}
  }
 ],
 "metadata": {
  "orig_nbformat": 4,
  "language_info": {
   "name": "python",
   "version": "3.9.7",
   "mimetype": "text/x-python",
   "codemirror_mode": {
    "name": "ipython",
    "version": 3
   },
   "pygments_lexer": "ipython3",
   "nbconvert_exporter": "python",
   "file_extension": ".py"
  },
  "kernelspec": {
   "name": "python3",
   "display_name": "Python 3.9.7 64-bit"
  },
  "interpreter": {
   "hash": "afdfc4dad5c79753cdb711a237c3b0109bb3e06bfbfa7471ad5a76d03e73b84f"
  }
 },
 "nbformat": 4,
 "nbformat_minor": 2
}