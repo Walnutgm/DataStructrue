{
 "cells": [
  {
   "cell_type": "markdown",
   "source": [
    "第三章：基本数据结构"
   ],
   "metadata": {}
  },
  {
   "cell_type": "code",
   "execution_count": 10,
   "source": [
    "from pythonds.basic import Stack\r\n",
    "\r\n",
    "def parChecker1(symbolString):\r\n",
    "    #利用栈实现括号匹配（字符串中只含有左右括号）\r\n",
    "    s=Stack()\r\n",
    "    balanced=True\r\n",
    "    index=0\r\n",
    "    while index < len(symbolString) and balanced:\r\n",
    "        symbol=symbolString[index]\r\n",
    "        if symbol=='(':\r\n",
    "            s.push(symbol)\r\n",
    "        else:\r\n",
    "            if s.isEmpty():\r\n",
    "                balanced=False\r\n",
    "            else:\r\n",
    "                s.pop()\r\n",
    "        index=index+1\r\n",
    "    \r\n",
    "    if balanced and s.isEmpty():\r\n",
    "        return True\r\n",
    "    else:\r\n",
    "        return False\r\n"
   ],
   "outputs": [],
   "metadata": {}
  },
  {
   "cell_type": "code",
   "execution_count": 11,
   "source": [
    "s1='(()'\r\n",
    "s2='((()))'\r\n",
    "print('s1:',parChecker1(s1))\r\n",
    "print('s2:',parChecker1(s2))"
   ],
   "outputs": [
    {
     "output_type": "stream",
     "name": "stdout",
     "text": [
      "s1: False\n",
      "s2: True\n"
     ]
    }
   ],
   "metadata": {}
  },
  {
   "cell_type": "code",
   "execution_count": 12,
   "source": [
    "def parChecker2(symbolString):\r\n",
    "    #利用栈实现括号匹配（字符串中含有其他字符）\r\n",
    "    s=Stack()\r\n",
    "    balanced=True\r\n",
    "    index=0\r\n",
    "    while index < len(symbolString) and balanced:\r\n",
    "        symbol=symbolString[index]\r\n",
    "        if symbol=='(':\r\n",
    "            s.push(symbol)\r\n",
    "        elif symbol==')':\r\n",
    "            if s.isEmpty():\r\n",
    "                balanced=False\r\n",
    "            else:\r\n",
    "                s.pop()\r\n",
    "            \r\n",
    "        index=index+1\r\n",
    "    \r\n",
    "    if balanced and s.isEmpty():\r\n",
    "        return True\r\n",
    "    else:\r\n",
    "        return False\r\n"
   ],
   "outputs": [],
   "metadata": {}
  },
  {
   "cell_type": "code",
   "execution_count": 13,
   "source": [
    "s1='as(jhj))l'\r\n",
    "s2='jh(jk)'\r\n",
    "print('s1:',parChecker2(s1))\r\n",
    "print('s2:',parChecker2(s2))"
   ],
   "outputs": [
    {
     "output_type": "stream",
     "name": "stdout",
     "text": [
      "s1: False\n",
      "s2: True\n"
     ]
    }
   ],
   "metadata": {}
  },
  {
   "cell_type": "code",
   "execution_count": 14,
   "source": [
    "from pythonds.basic import Stack\r\n",
    "def parChecker3(symbolString):\r\n",
    "    #匹配不同括号  （）{}[]\r\n",
    "    s=Stack()\r\n",
    "    balanced=True\r\n",
    "    index=0\r\n",
    "    while index<len(symbolString) and balanced:\r\n",
    "        symbol=symbolString[index]\r\n",
    "        if symbol in '([{':\r\n",
    "            s.push(symbol)\r\n",
    "        else:\r\n",
    "            top=s.pop()\r\n",
    "            if not matches(top,symbol):\r\n",
    "                balanced=False\r\n",
    "        index=index+1\r\n",
    "    if balanced and s.isEmpty():\r\n",
    "        return True\r\n",
    "    else:\r\n",
    "        return False\r\n",
    "\r\n",
    "def matches(open,close):\r\n",
    "    opens='([{'\r\n",
    "    closers=')]}'\r\n",
    "    return opens.index(open)==closers.index(close)"
   ],
   "outputs": [],
   "metadata": {}
  },
  {
   "cell_type": "code",
   "execution_count": 15,
   "source": [
    "s1='([)]'\r\n",
    "s2='[{()}]'\r\n",
    "print('s1:',parChecker3(s1))\r\n",
    "print('s2:',parChecker3(s2))"
   ],
   "outputs": [
    {
     "output_type": "stream",
     "name": "stdout",
     "text": [
      "s1: False\n",
      "s2: True\n"
     ]
    }
   ],
   "metadata": {}
  },
  {
   "cell_type": "code",
   "execution_count": 18,
   "source": [
    "#将十进制转化成二进制\r\n",
    "from pythonds.basic import Stack\r\n",
    "def divideBy2(num):\r\n",
    "    remStack=Stack()\r\n",
    "\r\n",
    "    while num>0:\r\n",
    "        rem=num%2\r\n",
    "        remStack.push(rem)\r\n",
    "        num=num//2\r\n",
    "    binString=''\r\n",
    "    while not remStack.isEmpty():\r\n",
    "        binString=binString+str(remStack.pop())\r\n",
    "    return binString"
   ],
   "outputs": [],
   "metadata": {}
  },
  {
   "cell_type": "code",
   "execution_count": 19,
   "source": [
    "print(divideBy2(233))"
   ],
   "outputs": [
    {
     "output_type": "stream",
     "name": "stdout",
     "text": [
      "11101001\n"
     ]
    }
   ],
   "metadata": {}
  },
  {
   "cell_type": "code",
   "execution_count": 24,
   "source": [
    "#将十进制转化成任意进制\r\n",
    "from pythonds.basic import Stack\r\n",
    "def baseConverter(num,base):\r\n",
    "    digits='0123456789ABCDEF'\r\n",
    "    remStack=Stack()\r\n",
    "    while num>0:\r\n",
    "        rem=num%base\r\n",
    "        remStack.push(rem)\r\n",
    "        num=num//base\r\n",
    "    newString=''\r\n",
    "    while not remStack.isEmpty():\r\n",
    "        newString=newString+digits[remStack.pop()]\r\n",
    "    return newString"
   ],
   "outputs": [],
   "metadata": {}
  },
  {
   "cell_type": "code",
   "execution_count": 25,
   "source": [
    "print(baseConverter(16,16))"
   ],
   "outputs": [
    {
     "output_type": "stream",
     "name": "stdout",
     "text": [
      "10\n"
     ]
    }
   ],
   "metadata": {}
  },
  {
   "cell_type": "code",
   "execution_count": 2,
   "source": [
    "from pythonds.basic import Stack\r\n",
    "import string\r\n",
    "\r\n",
    "def infixToPostfix(infixexpr):\r\n",
    "    #中序表达式转化成后序\r\n",
    "    prec={}\r\n",
    "    prec['*']=3\r\n",
    "    prec['/']=3\r\n",
    "    prec['+']=2\r\n",
    "    prec['-']=2\r\n",
    "    prec['(']=1\r\n",
    "\r\n",
    "    opStack=Stack()\r\n",
    "    postfixList=[]\r\n",
    "    tokenList=infixexpr.split()\r\n",
    "\r\n",
    "    for token in tokenList:\r\n",
    "        if token in string.ascii_uppercase:\r\n",
    "            postfixList.append(token)\r\n",
    "        elif token=='(':\r\n",
    "            opStack.push(token)\r\n",
    "        elif token==')':\r\n",
    "            topToken=opStack.pop()\r\n",
    "            while topToken!='(':\r\n",
    "                postfixList.append(topToken)\r\n",
    "                topToken=opStack.pop()\r\n",
    "        else:\r\n",
    "            while (not opStack.isEmpty()) and (prec[opStack.peek()]>=prec[token]):\r\n",
    "                postfixList.append(opStack.pop())\r\n",
    "            opStack.push(token)\r\n",
    "    \r\n",
    "    while not opStack.isEmpty():\r\n",
    "        postfixList.append(opStack.pop())\r\n",
    "    return ''.join(postfixList)"
   ],
   "outputs": [],
   "metadata": {}
  },
  {
   "cell_type": "code",
   "execution_count": 4,
   "source": [
    "s1='( A + B ) * ( C + D )'\r\n",
    "print(infixToPostfix(s1))"
   ],
   "outputs": [
    {
     "output_type": "stream",
     "name": "stdout",
     "text": [
      "AB+CD+*\n"
     ]
    }
   ],
   "metadata": {}
  },
  {
   "cell_type": "code",
   "execution_count": 7,
   "source": [
    "#利用栈实现后序表达式的计算\r\n",
    "#假设后序表达式是一个以空格分隔的标记串，操作数标记是一位整数值\r\n",
    "from pythonds.basic import Stack\r\n",
    "def postfixEval(postfixExpr):\r\n",
    "    opStack=Stack()\r\n",
    "    tokenList=postfixExpr.split()\r\n",
    "    for token in tokenList:\r\n",
    "        if token in \"0123456789\":  #if token.isdigit()\r\n",
    "            opStack.push(int(token))\r\n",
    "        else:\r\n",
    "            operand2=opStack.pop()\r\n",
    "            operand1=opStack.pop()\r\n",
    "            result=doMath(token,operand1,operand2)\r\n",
    "            opStack.push(result)\r\n",
    "    return opStack.pop()\r\n",
    "\r\n",
    "def doMath(op,op1,op2):\r\n",
    "    if op=='+':\r\n",
    "        return op1+op2\r\n",
    "    elif op=='-':\r\n",
    "        return op1-op2\r\n",
    "    elif op=='*':\r\n",
    "        return op1*op2\r\n",
    "    else:\r\n",
    "        return op1/op2\r\n"
   ],
   "outputs": [],
   "metadata": {}
  },
  {
   "cell_type": "code",
   "execution_count": 24,
   "source": [
    "from pythonds.basic import Stack\r\n",
    "import string\r\n",
    "\r\n",
    "def InfixevalToInfixlist(text):\r\n",
    "    #将字符串形式的计算式转化成列表形式\r\n",
    "    infixList=[]\r\n",
    "    for symbol in text:\r\n",
    "        if len(infixList)==0:\r\n",
    "            infixList.append(symbol)\r\n",
    "        elif symbol.isdigit() and (not infixList[-1].isdigit()):\r\n",
    "            infixList.append(symbol)\r\n",
    "        elif symbol.isdigit() and infixList[-1].isdigit():\r\n",
    "            infixList[-1]=infixList[-1]+symbol\r\n",
    "        else:\r\n",
    "            infixList.append(symbol)\r\n",
    "    print(infixList)\r\n",
    "    return infixList\r\n",
    "\r\n",
    "\r\n",
    "\r\n",
    "def infixToPostfix2(infixexpr):\r\n",
    "    #中序表达式转化成后序\r\n",
    "    prec={}\r\n",
    "    prec['*']=3\r\n",
    "    prec['/']=3\r\n",
    "    prec['+']=2\r\n",
    "    prec['-']=2\r\n",
    "    prec['(']=1\r\n",
    "\r\n",
    "    opStack=Stack()\r\n",
    "    postfixList=[]\r\n",
    "    tokenList=InfixevalToInfixlist(infixexpr)\r\n",
    "\r\n",
    "    for token in tokenList:\r\n",
    "        if token.isdigit():\r\n",
    "            postfixList.append(token)\r\n",
    "        elif token=='(':\r\n",
    "            opStack.push(token)\r\n",
    "        elif token==')':\r\n",
    "            topToken=opStack.pop()\r\n",
    "            while topToken!='(':\r\n",
    "                postfixList.append(topToken)\r\n",
    "                topToken=opStack.pop()\r\n",
    "        else:\r\n",
    "            while (not opStack.isEmpty()) and (prec[opStack.peek()]>=prec[token]):\r\n",
    "                postfixList.append(opStack.pop())\r\n",
    "            opStack.push(token)\r\n",
    "    \r\n",
    "    while not opStack.isEmpty():\r\n",
    "        postfixList.append(opStack.pop())\r\n",
    "    return ' '.join(postfixList)"
   ],
   "outputs": [],
   "metadata": {}
  },
  {
   "cell_type": "code",
   "execution_count": 26,
   "source": [
    "s='1+45*2'\r\n",
    "print(infixToPostfix2(s))#然后再使用postfixEval计算即可"
   ],
   "outputs": [
    {
     "output_type": "stream",
     "name": "stdout",
     "text": [
      "['1', '+', '45', '*', '2']\n",
      "1 45 2 * +\n"
     ]
    }
   ],
   "metadata": {}
  }
 ],
 "metadata": {
  "orig_nbformat": 4,
  "language_info": {
   "name": "python",
   "version": "3.9.7",
   "mimetype": "text/x-python",
   "codemirror_mode": {
    "name": "ipython",
    "version": 3
   },
   "pygments_lexer": "ipython3",
   "nbconvert_exporter": "python",
   "file_extension": ".py"
  },
  "kernelspec": {
   "name": "python3",
   "display_name": "Python 3.9.7 64-bit"
  },
  "interpreter": {
   "hash": "afdfc4dad5c79753cdb711a237c3b0109bb3e06bfbfa7471ad5a76d03e73b84f"
  }
 },
 "nbformat": 4,
 "nbformat_minor": 2
}